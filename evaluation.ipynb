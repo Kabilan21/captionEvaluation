{
 "cells": [
  {
   "cell_type": "code",
   "execution_count": 4,
   "metadata": {},
   "outputs": [],
   "source": [
    "from pycocoevalcap.cider.cider import Cider\n",
    "df_mode = 'corpus'\n",
    "scorers = [\n",
    "    (Cider(df_mode), \"CIDEr\"),\n",
    "]"
   ]
  },
  {
   "cell_type": "code",
   "execution_count": 5,
   "metadata": {},
   "outputs": [],
   "source": [
    "gts = {0: ['the man is playing a guitar', 'a man is playing a guitar'], 1: ['a woman is slicing cucumbers', 'the woman is slicing cucumbers', 'a woman is cutting cucumbers']}\n",
    "res = {0: ['man is playing guitar'], 1: ['a woman is going out ']}"
   ]
  },
  {
   "cell_type": "code",
   "execution_count": 6,
   "metadata": {},
   "outputs": [
    {
     "name": "stdout",
     "output_type": "stream",
     "text": [
      "3.4264002974498364 CIDEr\n"
     ]
    }
   ],
   "source": [
    "for scorer, method in scorers:\n",
    "    score, scores = scorer.compute_score(gts, res)\n",
    "    if type(method) == list:\n",
    "        for sc, scs, m in zip(score, scores, method):\n",
    "            print(sc, m)\n",
    "    else:\n",
    "        print(score, method)"
   ]
  }
 ],
 "metadata": {
  "kernelspec": {
   "display_name": "Python 3",
   "language": "python",
   "name": "python3"
  },
  "language_info": {
   "codemirror_mode": {
    "name": "ipython",
    "version": 3
   },
   "file_extension": ".py",
   "mimetype": "text/x-python",
   "name": "python",
   "nbconvert_exporter": "python",
   "pygments_lexer": "ipython3",
   "version": "3.7.7"
  }
 },
 "nbformat": 4,
 "nbformat_minor": 4
}
